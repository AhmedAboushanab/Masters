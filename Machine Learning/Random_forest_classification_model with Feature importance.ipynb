{
  "nbformat": 4,
  "nbformat_minor": 0,
  "metadata": {
    "colab": {
      "name": "Random_forest_classification_model_with_feature importance.ipynb",
      "provenance": [],
      "collapsed_sections": [],
      "toc_visible": true,
      "machine_shape": "hm"
    },
    "kernelspec": {
      "name": "python3",
      "display_name": "Python 3"
    }
  },
  "cells": [
    {
      "cell_type": "markdown",
      "metadata": {
        "id": "0MRC0e0KhQ0S"
      },
      "source": [
        "# Random Forest Classification"
      ]
    },
    {
      "cell_type": "markdown",
      "metadata": {
        "id": "LWd1UlMnhT2s"
      },
      "source": [
        "## Importing the libraries"
      ]
    },
    {
      "cell_type": "code",
      "metadata": {
        "id": "EzNEUFeiXAoK"
      },
      "source": [
        "pip install shap"
      ],
      "execution_count": 17,
      "outputs": []
    },
    {
      "cell_type": "code",
      "metadata": {
        "id": "YvGPUQaHhXfL"
      },
      "source": [
        "import numpy as np\n",
        "import matplotlib.pyplot as plt\n",
        "import pandas as pd\n",
        "from sklearn.inspection import permutation_importance\n",
        "import shap\n",
        "from plotnine.data import mpg\n",
        "from plotnine import ggplot, aes, facet_grid, labs, geom_point, theme_dark"
      ],
      "execution_count": 18,
      "outputs": []
    },
    {
      "cell_type": "markdown",
      "metadata": {
        "id": "K1VMqkGvhc3-"
      },
      "source": [
        "## Importing the dataset"
      ]
    },
    {
      "cell_type": "code",
      "metadata": {
        "id": "M52QDmyzhh9s"
      },
      "source": [
        "dataset = pd.read_csv('File_name.csv')\n",
        "X = dataset.iloc[:, :-1].values\n",
        "y = dataset.iloc[:, -1].values"
      ],
      "execution_count": 19,
      "outputs": []
    },
    {
      "cell_type": "markdown",
      "metadata": {
        "id": "YvxIPVyMhmKp"
      },
      "source": [
        "## Splitting the dataset into the Training set and Test set"
      ]
    },
    {
      "cell_type": "code",
      "metadata": {
        "id": "AVzJWAXIhxoC"
      },
      "source": [
        "from sklearn.model_selection import train_test_split\n",
        "X_train, X_test, y_train, y_test = train_test_split(X, y, test_size = 0.25, random_state = 0)"
      ],
      "execution_count": 20,
      "outputs": []
    },
    {
      "cell_type": "code",
      "metadata": {
        "id": "P3nS3-6r1i2B",
        "colab": {
          "base_uri": "https://localhost:8080/"
        },
        "outputId": "64766def-ae27-40d4-dc2f-0adfaa89283d"
      },
      "source": [
        "print(X_train)"
      ],
      "execution_count": 21,
      "outputs": [
        {
          "output_type": "stream",
          "text": [
            "[[5.256147e+01 2.701204e+01 9.108550e+00 ... 1.087289e+01 4.450500e-01\n",
            "  0.000000e+00]\n",
            " [4.579114e+01 1.977540e+00 4.916861e+01 ... 0.000000e+00 3.036930e+00\n",
            "  2.499000e-02]\n",
            " [7.984260e+00 7.108400e-01 1.547424e+01 ... 0.000000e+00 7.581901e+01\n",
            "  0.000000e+00]\n",
            " ...\n",
            " [2.210026e+01 6.176380e+00 6.896178e+01 ... 0.000000e+00 2.703160e+00\n",
            "  5.841000e-02]\n",
            " [6.395543e+01 1.195588e+01 2.263885e+01 ... 1.195750e+00 2.530100e-01\n",
            "  0.000000e+00]\n",
            " [4.226304e+01 5.310900e+00 4.777751e+01 ... 3.238760e+00 1.409780e+00\n",
            "  0.000000e+00]]\n"
          ],
          "name": "stdout"
        }
      ]
    },
    {
      "cell_type": "code",
      "metadata": {
        "id": "8dpDLojm1mVG",
        "colab": {
          "base_uri": "https://localhost:8080/"
        },
        "outputId": "d1a79ce4-0785-4f2e-91f4-24899f504a87"
      },
      "source": [
        "print(y_train)"
      ],
      "execution_count": 22,
      "outputs": [
        {
          "output_type": "stream",
          "text": [
            "['Very High' 'Medium' 'Medium' ... 'Medium' 'Very High' 'Medium']\n"
          ],
          "name": "stdout"
        }
      ]
    },
    {
      "cell_type": "code",
      "metadata": {
        "id": "qbb7i0DH1qui",
        "colab": {
          "base_uri": "https://localhost:8080/"
        },
        "outputId": "0aca5365-03fe-45c8-c204-d527d9aa9bba"
      },
      "source": [
        "print(X_test)"
      ],
      "execution_count": 23,
      "outputs": [
        {
          "output_type": "stream",
          "text": [
            "[[ 6.98976    0.21855   86.13139   ...  0.         6.54276    0.       ]\n",
            " [47.3469388  0.4081633 13.3469388 ... 24.122449  14.6530612  0.       ]\n",
            " [73.57185    0.52473   12.57805   ...  0.36801    3.59071    0.       ]\n",
            " ...\n",
            " [70.85964    0.33087   26.19337   ...  0.         2.6093     0.       ]\n",
            " [38.21642    5.39944   55.60313   ...  0.         0.33893    0.44209  ]\n",
            " [70.2192     9.80053   19.57428   ...  0.         0.40599    0.       ]]\n"
          ],
          "name": "stdout"
        }
      ]
    },
    {
      "cell_type": "code",
      "metadata": {
        "id": "kj1hnFAR1s5w",
        "colab": {
          "base_uri": "https://localhost:8080/"
        },
        "outputId": "108c97ca-8687-4213-8cdc-b63b243a5e89"
      },
      "source": [
        "print(y_test)"
      ],
      "execution_count": 24,
      "outputs": [
        {
          "output_type": "stream",
          "text": [
            "['Medium' 'Medium' 'Medium' 'Very High' 'Low' 'Very High' 'Very High'\n",
            " 'Medium' 'High' 'Medium' 'Low' 'Very High' 'Medium' 'Medium' 'Medium'\n",
            " 'Medium' 'Very High' 'Low' 'Very High' 'Medium' 'Low' 'Very High'\n",
            " 'Medium' 'Very High' 'Medium' 'Very High' 'High' 'Very High' 'Medium'\n",
            " 'High' 'Very High' 'Medium' 'Medium' 'Medium' 'Very High' 'Medium'\n",
            " 'Very High' 'Low' 'Very High' 'Low' 'Very High' 'Medium' 'Medium'\n",
            " 'Medium' 'Medium' 'Medium' 'Medium' 'Very High' 'Medium' 'Medium'\n",
            " 'Medium' 'Low' 'High' 'Medium' 'Very High' 'Very High' 'Medium' 'Medium'\n",
            " 'Medium' 'Medium' 'Low' 'Very High' 'Very High' 'Medium' 'High'\n",
            " 'Very High' 'Very High' 'Medium' 'Medium' 'Medium' 'Very High' 'Medium'\n",
            " 'Very High' 'Low' 'Very High' 'Very High' 'Medium' 'Medium' 'Medium'\n",
            " 'High' 'Very High' 'Very High' 'Very High' 'Very High' 'Very High'\n",
            " 'Medium' 'Medium' 'Very High' 'Very High' 'Medium' 'Very High'\n",
            " 'Very High' 'Very High' 'Medium' 'Medium' 'Medium' 'Medium' 'Very High'\n",
            " 'Medium' 'Medium' 'High' 'Very High' 'Low' 'Very High' 'Medium' 'Medium'\n",
            " 'Medium' 'Medium' 'Medium' 'Medium' 'Medium' 'Very High' 'Medium'\n",
            " 'Very High' 'Very High' 'Medium' 'Very High' 'Very High' 'Very High'\n",
            " 'Medium' 'Very High' 'Very High' 'Medium' 'Low' 'High' 'Very High' 'High'\n",
            " 'Very High' 'Very High' 'High' 'Medium' 'Medium' 'Very High' 'Medium'\n",
            " 'High' 'Medium' 'Very High' 'High' 'Medium' 'Medium' 'Very High'\n",
            " 'Very High' 'Medium' 'Medium' 'Very High' 'Medium' 'Medium' 'Medium'\n",
            " 'Low' 'Very High' 'High' 'Very High' 'Medium' 'Low' 'Very High'\n",
            " 'Very High' 'Medium' 'Medium' 'Low' 'Very High' 'Medium' 'High'\n",
            " 'Very High' 'Medium' 'Medium' 'Very High' 'Very High' 'High' 'Medium'\n",
            " 'Medium' 'Medium' 'Very High' 'Medium' 'Medium' 'Medium' 'Medium'\n",
            " 'Very High' 'Very High' 'Very High' 'Medium' 'Medium' 'Very High'\n",
            " 'Very High' 'Low' 'Very High' 'Very High' 'Medium' 'Medium' 'Very High'\n",
            " 'Very High' 'Very High' 'Medium' 'Medium' 'Very High' 'Medium'\n",
            " 'Very High' 'High' 'Very High' 'Low' 'High' 'Low' 'Very High' 'Medium'\n",
            " 'Low' 'Medium' 'Low' 'Medium' 'Medium' 'Medium' 'Low' 'Very High'\n",
            " 'Medium' 'High' 'Medium' 'Very High' 'High' 'High' 'High' 'Very High'\n",
            " 'Medium' 'Medium' 'Medium' 'Very High' 'Very High' 'Low' 'Very High'\n",
            " 'Low' 'Medium' 'Low' 'Very High' 'Medium' 'Low' 'Very High' 'Very High'\n",
            " 'Very High' 'Very High' 'Low' 'Very High' 'Medium' 'Medium' 'Medium'\n",
            " 'Medium' 'Medium' 'Medium' 'Very High' 'Very High' 'Very High' 'Medium'\n",
            " 'Very High' 'High' 'Medium' 'Low' 'Very High' 'Low' 'Medium' 'High'\n",
            " 'Medium' 'Very High' 'Medium' 'Medium' 'Very High' 'Medium' 'Medium'\n",
            " 'Medium' 'Low' 'Very High' 'Medium' 'Low' 'Very High' 'Very High'\n",
            " 'Medium' 'Very High' 'Medium' 'Medium' 'Very High' 'Medium' 'Very High'\n",
            " 'Medium' 'Medium' 'Medium' 'Low' 'Very High' 'Very High' 'Medium'\n",
            " 'Medium' 'Medium' 'Medium' 'Very High' 'Very High' 'Medium' 'Medium'\n",
            " 'Medium' 'Very High' 'Very High' 'Medium' 'Medium' 'Medium' 'Medium'\n",
            " 'Medium' 'Medium' 'Medium' 'Medium' 'Low' 'Medium' 'Very High' 'Medium'\n",
            " 'Very High' 'High' 'Medium' 'Very High' 'Medium' 'Very High' 'Very High'\n",
            " 'Very High' 'Medium' 'Low' 'High' 'Very High' 'Medium' 'High' 'Low'\n",
            " 'Medium' 'High' 'Medium' 'Very High' 'Very High' 'Medium' 'High' 'Medium'\n",
            " 'Medium' 'Medium' 'Medium' 'Very High' 'Medium' 'Medium' 'Very High'\n",
            " 'Very High' 'Very High' 'Medium' 'Medium' 'Medium' 'Medium' 'Medium'\n",
            " 'Medium' 'Medium' 'Medium' 'Very High' 'Very High' 'Low' 'Medium'\n",
            " 'Medium' 'Very High' 'Very High' 'Very High' 'High' 'Very High'\n",
            " 'Very High' 'Very High' 'Very High' 'Very High' 'Low' 'High' 'Very High']\n"
          ],
          "name": "stdout"
        }
      ]
    },
    {
      "cell_type": "markdown",
      "metadata": {
        "id": "bb6jCOCQiAmP"
      },
      "source": [
        "## Training the Random Forest Classification model on the Training set"
      ]
    },
    {
      "cell_type": "code",
      "metadata": {
        "id": "e0pFVAmciHQs",
        "colab": {
          "base_uri": "https://localhost:8080/"
        },
        "outputId": "d2c8a867-2f5f-45df-b4db-7e693c537dcb"
      },
      "source": [
        "from sklearn.ensemble import RandomForestClassifier\n",
        "classifier = RandomForestClassifier(n_estimators = 1000, criterion = 'entropy', random_state = 0)\n",
        "classifier.fit(X_train, y_train)"
      ],
      "execution_count": 25,
      "outputs": [
        {
          "output_type": "execute_result",
          "data": {
            "text/plain": [
              "RandomForestClassifier(bootstrap=True, ccp_alpha=0.0, class_weight=None,\n",
              "                       criterion='entropy', max_depth=None, max_features='auto',\n",
              "                       max_leaf_nodes=None, max_samples=None,\n",
              "                       min_impurity_decrease=0.0, min_impurity_split=None,\n",
              "                       min_samples_leaf=1, min_samples_split=2,\n",
              "                       min_weight_fraction_leaf=0.0, n_estimators=1000,\n",
              "                       n_jobs=None, oob_score=False, random_state=0, verbose=0,\n",
              "                       warm_start=False)"
            ]
          },
          "metadata": {
            "tags": []
          },
          "execution_count": 25
        }
      ]
    },
    {
      "cell_type": "markdown",
      "metadata": {
        "id": "vKYVQH-l5NpE"
      },
      "source": [
        "## Predicting the Test set results"
      ]
    },
    {
      "cell_type": "code",
      "metadata": {
        "id": "p6VMTb2O4hwM",
        "colab": {
          "base_uri": "https://localhost:8080/"
        },
        "outputId": "50e5c490-6991-46dd-87d9-14ff2a7607cc"
      },
      "source": [
        "y_pred = classifier.predict(X_test)\n",
        "print(np.concatenate((y_pred.reshape(len(y_pred),1), y_test.reshape(len(y_test),1)),1))"
      ],
      "execution_count": 26,
      "outputs": [
        {
          "output_type": "stream",
          "text": [
            "[['Medium' 'Medium']\n",
            " ['Medium' 'Medium']\n",
            " ['Medium' 'Medium']\n",
            " ['Very High' 'Very High']\n",
            " ['Low' 'Low']\n",
            " ['Very High' 'Very High']\n",
            " ['Very High' 'Very High']\n",
            " ['Medium' 'Medium']\n",
            " ['Medium' 'High']\n",
            " ['Medium' 'Medium']\n",
            " ['Medium' 'Low']\n",
            " ['Very High' 'Very High']\n",
            " ['Medium' 'Medium']\n",
            " ['Medium' 'Medium']\n",
            " ['Very High' 'Medium']\n",
            " ['Very High' 'Medium']\n",
            " ['Very High' 'Very High']\n",
            " ['Medium' 'Low']\n",
            " ['Very High' 'Very High']\n",
            " ['Medium' 'Medium']\n",
            " ['Low' 'Low']\n",
            " ['Very High' 'Very High']\n",
            " ['Medium' 'Medium']\n",
            " ['Medium' 'Very High']\n",
            " ['Medium' 'Medium']\n",
            " ['Very High' 'Very High']\n",
            " ['Medium' 'High']\n",
            " ['Very High' 'Very High']\n",
            " ['Medium' 'Medium']\n",
            " ['Medium' 'High']\n",
            " ['Medium' 'Very High']\n",
            " ['Medium' 'Medium']\n",
            " ['Medium' 'Medium']\n",
            " ['Medium' 'Medium']\n",
            " ['Very High' 'Very High']\n",
            " ['Medium' 'Medium']\n",
            " ['Very High' 'Very High']\n",
            " ['Medium' 'Low']\n",
            " ['Very High' 'Very High']\n",
            " ['Low' 'Low']\n",
            " ['Very High' 'Very High']\n",
            " ['Medium' 'Medium']\n",
            " ['Medium' 'Medium']\n",
            " ['Medium' 'Medium']\n",
            " ['Medium' 'Medium']\n",
            " ['Very High' 'Medium']\n",
            " ['Medium' 'Medium']\n",
            " ['Very High' 'Very High']\n",
            " ['Medium' 'Medium']\n",
            " ['Very High' 'Medium']\n",
            " ['Medium' 'Medium']\n",
            " ['Low' 'Low']\n",
            " ['Medium' 'High']\n",
            " ['Medium' 'Medium']\n",
            " ['Very High' 'Very High']\n",
            " ['Very High' 'Very High']\n",
            " ['Low' 'Medium']\n",
            " ['Medium' 'Medium']\n",
            " ['Medium' 'Medium']\n",
            " ['Medium' 'Medium']\n",
            " ['Low' 'Low']\n",
            " ['Very High' 'Very High']\n",
            " ['Very High' 'Very High']\n",
            " ['Medium' 'Medium']\n",
            " ['Medium' 'High']\n",
            " ['Very High' 'Very High']\n",
            " ['Very High' 'Very High']\n",
            " ['Medium' 'Medium']\n",
            " ['Medium' 'Medium']\n",
            " ['Very High' 'Medium']\n",
            " ['Very High' 'Very High']\n",
            " ['Medium' 'Medium']\n",
            " ['Very High' 'Very High']\n",
            " ['Very High' 'Low']\n",
            " ['Very High' 'Very High']\n",
            " ['Very High' 'Very High']\n",
            " ['Medium' 'Medium']\n",
            " ['Medium' 'Medium']\n",
            " ['Medium' 'Medium']\n",
            " ['Medium' 'High']\n",
            " ['Very High' 'Very High']\n",
            " ['Very High' 'Very High']\n",
            " ['Medium' 'Very High']\n",
            " ['Very High' 'Very High']\n",
            " ['Medium' 'Very High']\n",
            " ['Medium' 'Medium']\n",
            " ['Medium' 'Medium']\n",
            " ['Medium' 'Very High']\n",
            " ['Very High' 'Very High']\n",
            " ['Medium' 'Medium']\n",
            " ['High' 'Very High']\n",
            " ['Very High' 'Very High']\n",
            " ['Very High' 'Very High']\n",
            " ['Medium' 'Medium']\n",
            " ['Medium' 'Medium']\n",
            " ['Medium' 'Medium']\n",
            " ['Medium' 'Medium']\n",
            " ['Medium' 'Very High']\n",
            " ['Medium' 'Medium']\n",
            " ['Medium' 'Medium']\n",
            " ['Medium' 'High']\n",
            " ['Very High' 'Very High']\n",
            " ['Very High' 'Low']\n",
            " ['Very High' 'Very High']\n",
            " ['Medium' 'Medium']\n",
            " ['Medium' 'Medium']\n",
            " ['Medium' 'Medium']\n",
            " ['Medium' 'Medium']\n",
            " ['Medium' 'Medium']\n",
            " ['Very High' 'Medium']\n",
            " ['Medium' 'Medium']\n",
            " ['Medium' 'Very High']\n",
            " ['Medium' 'Medium']\n",
            " ['Very High' 'Very High']\n",
            " ['Very High' 'Very High']\n",
            " ['Medium' 'Medium']\n",
            " ['Very High' 'Very High']\n",
            " ['Medium' 'Very High']\n",
            " ['Very High' 'Very High']\n",
            " ['Medium' 'Medium']\n",
            " ['Very High' 'Very High']\n",
            " ['Medium' 'Very High']\n",
            " ['Medium' 'Medium']\n",
            " ['Medium' 'Low']\n",
            " ['Medium' 'High']\n",
            " ['Very High' 'Very High']\n",
            " ['High' 'High']\n",
            " ['Medium' 'Very High']\n",
            " ['Very High' 'Very High']\n",
            " ['Medium' 'High']\n",
            " ['Medium' 'Medium']\n",
            " ['Very High' 'Medium']\n",
            " ['Very High' 'Very High']\n",
            " ['Medium' 'Medium']\n",
            " ['Medium' 'High']\n",
            " ['Medium' 'Medium']\n",
            " ['Very High' 'Very High']\n",
            " ['Medium' 'High']\n",
            " ['Medium' 'Medium']\n",
            " ['Medium' 'Medium']\n",
            " ['Very High' 'Very High']\n",
            " ['Low' 'Very High']\n",
            " ['Medium' 'Medium']\n",
            " ['Medium' 'Medium']\n",
            " ['Very High' 'Very High']\n",
            " ['Medium' 'Medium']\n",
            " ['Medium' 'Medium']\n",
            " ['Medium' 'Medium']\n",
            " ['Medium' 'Low']\n",
            " ['Very High' 'Very High']\n",
            " ['Medium' 'High']\n",
            " ['Very High' 'Very High']\n",
            " ['Medium' 'Medium']\n",
            " ['Low' 'Low']\n",
            " ['Very High' 'Very High']\n",
            " ['Very High' 'Very High']\n",
            " ['Medium' 'Medium']\n",
            " ['Medium' 'Medium']\n",
            " ['Medium' 'Low']\n",
            " ['Medium' 'Very High']\n",
            " ['Medium' 'Medium']\n",
            " ['Medium' 'High']\n",
            " ['Very High' 'Very High']\n",
            " ['Very High' 'Medium']\n",
            " ['Medium' 'Medium']\n",
            " ['Very High' 'Very High']\n",
            " ['Very High' 'Very High']\n",
            " ['Low' 'High']\n",
            " ['Medium' 'Medium']\n",
            " ['Medium' 'Medium']\n",
            " ['Medium' 'Medium']\n",
            " ['Very High' 'Very High']\n",
            " ['Medium' 'Medium']\n",
            " ['Medium' 'Medium']\n",
            " ['Medium' 'Medium']\n",
            " ['Medium' 'Medium']\n",
            " ['Very High' 'Very High']\n",
            " ['Very High' 'Very High']\n",
            " ['Very High' 'Very High']\n",
            " ['Medium' 'Medium']\n",
            " ['Medium' 'Medium']\n",
            " ['Very High' 'Very High']\n",
            " ['Very High' 'Very High']\n",
            " ['Medium' 'Low']\n",
            " ['Very High' 'Very High']\n",
            " ['Very High' 'Very High']\n",
            " ['Medium' 'Medium']\n",
            " ['Very High' 'Medium']\n",
            " ['Medium' 'Very High']\n",
            " ['Very High' 'Very High']\n",
            " ['Very High' 'Very High']\n",
            " ['Medium' 'Medium']\n",
            " ['Medium' 'Medium']\n",
            " ['Very High' 'Very High']\n",
            " ['Medium' 'Medium']\n",
            " ['Very High' 'Very High']\n",
            " ['Medium' 'High']\n",
            " ['Very High' 'Very High']\n",
            " ['Low' 'Low']\n",
            " ['Medium' 'High']\n",
            " ['Medium' 'Low']\n",
            " ['Medium' 'Very High']\n",
            " ['Medium' 'Medium']\n",
            " ['Medium' 'Low']\n",
            " ['Medium' 'Medium']\n",
            " ['Medium' 'Low']\n",
            " ['Medium' 'Medium']\n",
            " ['Medium' 'Medium']\n",
            " ['Medium' 'Medium']\n",
            " ['Low' 'Low']\n",
            " ['Very High' 'Very High']\n",
            " ['Medium' 'Medium']\n",
            " ['Medium' 'High']\n",
            " ['Very High' 'Medium']\n",
            " ['Very High' 'Very High']\n",
            " ['Medium' 'High']\n",
            " ['Medium' 'High']\n",
            " ['Medium' 'High']\n",
            " ['Very High' 'Very High']\n",
            " ['Medium' 'Medium']\n",
            " ['Medium' 'Medium']\n",
            " ['Medium' 'Medium']\n",
            " ['Very High' 'Very High']\n",
            " ['Very High' 'Very High']\n",
            " ['Low' 'Low']\n",
            " ['Very High' 'Very High']\n",
            " ['Medium' 'Low']\n",
            " ['Medium' 'Medium']\n",
            " ['Medium' 'Low']\n",
            " ['Very High' 'Very High']\n",
            " ['Medium' 'Medium']\n",
            " ['Low' 'Low']\n",
            " ['Very High' 'Very High']\n",
            " ['Very High' 'Very High']\n",
            " ['Very High' 'Very High']\n",
            " ['Very High' 'Very High']\n",
            " ['Medium' 'Low']\n",
            " ['Medium' 'Very High']\n",
            " ['Medium' 'Medium']\n",
            " ['Medium' 'Medium']\n",
            " ['Low' 'Medium']\n",
            " ['Medium' 'Medium']\n",
            " ['Medium' 'Medium']\n",
            " ['Medium' 'Medium']\n",
            " ['Medium' 'Very High']\n",
            " ['Very High' 'Very High']\n",
            " ['Medium' 'Very High']\n",
            " ['Medium' 'Medium']\n",
            " ['Very High' 'Very High']\n",
            " ['Medium' 'High']\n",
            " ['Medium' 'Medium']\n",
            " ['Low' 'Low']\n",
            " ['Very High' 'Very High']\n",
            " ['Medium' 'Low']\n",
            " ['Medium' 'Medium']\n",
            " ['Medium' 'High']\n",
            " ['Medium' 'Medium']\n",
            " ['Very High' 'Very High']\n",
            " ['Medium' 'Medium']\n",
            " ['Medium' 'Medium']\n",
            " ['Very High' 'Very High']\n",
            " ['Medium' 'Medium']\n",
            " ['Medium' 'Medium']\n",
            " ['Medium' 'Medium']\n",
            " ['Medium' 'Low']\n",
            " ['Medium' 'Very High']\n",
            " ['Medium' 'Medium']\n",
            " ['Medium' 'Low']\n",
            " ['Medium' 'Very High']\n",
            " ['Very High' 'Very High']\n",
            " ['Medium' 'Medium']\n",
            " ['Very High' 'Very High']\n",
            " ['Very High' 'Medium']\n",
            " ['Very High' 'Medium']\n",
            " ['Very High' 'Very High']\n",
            " ['Medium' 'Medium']\n",
            " ['Very High' 'Very High']\n",
            " ['Medium' 'Medium']\n",
            " ['Medium' 'Medium']\n",
            " ['Medium' 'Medium']\n",
            " ['Low' 'Low']\n",
            " ['Very High' 'Very High']\n",
            " ['Very High' 'Very High']\n",
            " ['Medium' 'Medium']\n",
            " ['Medium' 'Medium']\n",
            " ['Medium' 'Medium']\n",
            " ['Medium' 'Medium']\n",
            " ['Very High' 'Very High']\n",
            " ['Very High' 'Very High']\n",
            " ['Very High' 'Medium']\n",
            " ['Medium' 'Medium']\n",
            " ['Medium' 'Medium']\n",
            " ['Very High' 'Very High']\n",
            " ['Very High' 'Very High']\n",
            " ['Medium' 'Medium']\n",
            " ['Medium' 'Medium']\n",
            " ['Medium' 'Medium']\n",
            " ['Medium' 'Medium']\n",
            " ['Medium' 'Medium']\n",
            " ['Medium' 'Medium']\n",
            " ['Medium' 'Medium']\n",
            " ['Medium' 'Medium']\n",
            " ['Medium' 'Low']\n",
            " ['Medium' 'Medium']\n",
            " ['Medium' 'Very High']\n",
            " ['Medium' 'Medium']\n",
            " ['Medium' 'Very High']\n",
            " ['Medium' 'High']\n",
            " ['Very High' 'Medium']\n",
            " ['Very High' 'Very High']\n",
            " ['Medium' 'Medium']\n",
            " ['Very High' 'Very High']\n",
            " ['Very High' 'Very High']\n",
            " ['Very High' 'Very High']\n",
            " ['Medium' 'Medium']\n",
            " ['Low' 'Low']\n",
            " ['Medium' 'High']\n",
            " ['Very High' 'Very High']\n",
            " ['Medium' 'Medium']\n",
            " ['Medium' 'High']\n",
            " ['Low' 'Low']\n",
            " ['Very High' 'Medium']\n",
            " ['Medium' 'High']\n",
            " ['Medium' 'Medium']\n",
            " ['Very High' 'Very High']\n",
            " ['Very High' 'Very High']\n",
            " ['Medium' 'Medium']\n",
            " ['Very High' 'High']\n",
            " ['Medium' 'Medium']\n",
            " ['Very High' 'Medium']\n",
            " ['Medium' 'Medium']\n",
            " ['Medium' 'Medium']\n",
            " ['Very High' 'Very High']\n",
            " ['Medium' 'Medium']\n",
            " ['Medium' 'Medium']\n",
            " ['Very High' 'Very High']\n",
            " ['Very High' 'Very High']\n",
            " ['Medium' 'Very High']\n",
            " ['Medium' 'Medium']\n",
            " ['Medium' 'Medium']\n",
            " ['Low' 'Medium']\n",
            " ['Medium' 'Medium']\n",
            " ['Medium' 'Medium']\n",
            " ['Medium' 'Medium']\n",
            " ['Medium' 'Medium']\n",
            " ['Very High' 'Medium']\n",
            " ['Very High' 'Very High']\n",
            " ['Very High' 'Very High']\n",
            " ['Low' 'Low']\n",
            " ['Medium' 'Medium']\n",
            " ['Medium' 'Medium']\n",
            " ['Very High' 'Very High']\n",
            " ['Medium' 'Very High']\n",
            " ['Very High' 'Very High']\n",
            " ['Medium' 'High']\n",
            " ['Very High' 'Very High']\n",
            " ['Very High' 'Very High']\n",
            " ['Very High' 'Very High']\n",
            " ['Very High' 'Very High']\n",
            " ['Very High' 'Very High']\n",
            " ['Medium' 'Low']\n",
            " ['Medium' 'High']\n",
            " ['Very High' 'Very High']]\n"
          ],
          "name": "stdout"
        }
      ]
    },
    {
      "cell_type": "markdown",
      "metadata": {
        "id": "h4Hwj34ziWQW"
      },
      "source": [
        "## Making the Confusion Matrix"
      ]
    },
    {
      "cell_type": "code",
      "metadata": {
        "id": "D6bpZwUiiXic",
        "colab": {
          "base_uri": "https://localhost:8080/"
        },
        "outputId": "39246ac9-14de-401c-9c8d-431d8244b79d"
      },
      "source": [
        "from sklearn.metrics import confusion_matrix, accuracy_score\n",
        "cm = confusion_matrix(y_test, y_pred)\n",
        "print(cm)\n",
        "accuracy_score(y_test, y_pred)"
      ],
      "execution_count": 27,
      "outputs": [
        {
          "output_type": "stream",
          "text": [
            "[[  1   1  27   1]\n",
            " [  0  15  18   2]\n",
            " [  0   3 145  17]\n",
            " [  1   1  22 109]]\n"
          ],
          "name": "stdout"
        },
        {
          "output_type": "execute_result",
          "data": {
            "text/plain": [
              "0.743801652892562"
            ]
          },
          "metadata": {
            "tags": []
          },
          "execution_count": 27
        }
      ]
    },
    {
      "cell_type": "markdown",
      "metadata": {
        "id": "Thl5YUE9_2i8"
      },
      "source": [
        "**Applying k-Fold Cross Validation**"
      ]
    },
    {
      "cell_type": "code",
      "metadata": {
        "colab": {
          "base_uri": "https://localhost:8080/"
        },
        "id": "2pdbHv8n_38D",
        "outputId": "4290433e-1b3e-4208-9371-97544c02f4aa"
      },
      "source": [
        "from sklearn.model_selection import cross_val_score\n",
        "accuracies = cross_val_score(estimator = classifier, X = X_train, y = y_train, cv = 10)\n",
        "print(\"Accuracy: {:.2f} %\".format(accuracies.mean()*100))\n",
        "print(\"Standard Deviation: {:.2f} %\".format(accuracies.std()*100))"
      ],
      "execution_count": 28,
      "outputs": [
        {
          "output_type": "stream",
          "text": [
            "Accuracy: 77.77 %\n",
            "Standard Deviation: 4.86 %\n"
          ],
          "name": "stdout"
        }
      ]
    },
    {
      "cell_type": "markdown",
      "metadata": {
        "id": "wyQN9tD51jPX"
      },
      "source": [
        "**Feature Importance Analysis**"
      ]
    },
    {
      "cell_type": "code",
      "metadata": {
        "colab": {
          "base_uri": "https://localhost:8080/"
        },
        "id": "1Zxu_oKR9FY_",
        "outputId": "6619ae52-08d4-4e0b-cd18-f98beb50aed7"
      },
      "source": [
        "classifier.feature_importances_"
      ],
      "execution_count": 29,
      "outputs": [
        {
          "output_type": "execute_result",
          "data": {
            "text/plain": [
              "array([0.1393342 , 0.24073814, 0.20128796, 0.05483063, 0.07832254,\n",
              "       0.21537214, 0.07011439])"
            ]
          },
          "metadata": {
            "tags": []
          },
          "execution_count": 29
        }
      ]
    },
    {
      "cell_type": "code",
      "metadata": {
        "colab": {
          "base_uri": "https://localhost:8080/",
          "height": 296
        },
        "id": "RJIOdlypLm0c",
        "outputId": "70a8d105-5021-415a-e28a-f17e4dcb2095"
      },
      "source": [
        "#Feature importance using Feature importance attribute in Random forest classifier\n",
        "feat_importances = pd.Series(classifier.feature_importances_, index=dataset.columns[0:7])\n",
        "feat_importances.nlargest(7).plot(kind='barh')\n",
        "plt.xlabel(\"Random Forest Feature Importance\")"
      ],
      "execution_count": 31,
      "outputs": [
        {
          "output_type": "execute_result",
          "data": {
            "text/plain": [
              "Text(0.5, 0, 'Random Forest Feature Importance')"
            ]
          },
          "metadata": {
            "tags": []
          },
          "execution_count": 31
        },
        {
          "output_type": "display_data",
          "data": {
            "image/png": "[encoded data removed]",
            "text/plain": [
              "<Figure size 432x288 with 1 Axes>"
            ]
          },
          "metadata": {
            "tags": [],
            "needs_background": "light"
          }
        }
      ]
    },
    {
      "cell_type": "code",
      "metadata": {
        "colab": {
          "base_uri": "https://localhost:8080/",
          "height": 296
        },
        "id": "MxiUxqo-QgYs",
        "outputId": "9a04c925-30f7-45ec-f104-fbbbc3e15023"
      },
      "source": [
        "sorted_idx = classifier.feature_importances_.argsort()\n",
        "plt.barh(dataset.columns[0:7][sorted_idx], classifier.feature_importances_[sorted_idx])\n",
        "plt.xlabel(\"Random Forest Feature Importance\")"
      ],
      "execution_count": 32,
      "outputs": [
        {
          "output_type": "execute_result",
          "data": {
            "text/plain": [
              "Text(0.5, 0, 'Random Forest Feature Importance')"
            ]
          },
          "metadata": {
            "tags": []
          },
          "execution_count": 32
        },
        {
          "output_type": "display_data",
          "data": {
            "image/png": "[encoded data removed]",
            "text/plain": [
              "<Figure size 432x288 with 1 Axes>"
            ]
          },
          "metadata": {
            "tags": [],
            "needs_background": "light"
          }
        }
      ]
    },
    {
      "cell_type": "code",
      "metadata": {
        "colab": {
          "base_uri": "https://localhost:8080/"
        },
        "id": "iCZUKYl6O8RQ",
        "outputId": "42ba542c-62cf-4f59-9bf3-aa3b3735b956"
      },
      "source": [
        "permutation_importance(classifier, X_test, y_test)"
      ],
      "execution_count": 33,
      "outputs": [
        {
          "output_type": "execute_result",
          "data": {
            "text/plain": [
              "{'importances': array([[0.0137741 , 0.01101928, 0.        , 0.00826446, 0.01652893],\n",
              "        [0.13774105, 0.11294766, 0.14600551, 0.1322314 , 0.13774105],\n",
              "        [0.0523416 , 0.04958678, 0.04683196, 0.01652893, 0.02479339],\n",
              "        [0.0137741 , 0.        , 0.01101928, 0.01928375, 0.00826446],\n",
              "        [0.01652893, 0.00550964, 0.03581267, 0.02479339, 0.00275482],\n",
              "        [0.12121212, 0.09917355, 0.12121212, 0.09641873, 0.12121212],\n",
              "        [0.00826446, 0.01652893, 0.0137741 , 0.01652893, 0.0137741 ]]),\n",
              " 'importances_mean': array([0.00991736, 0.13333333, 0.03801653, 0.01046832, 0.01707989,\n",
              "        0.11184573, 0.0137741 ]),\n",
              " 'importances_std': array([0.00567252, 0.01110162, 0.01451453, 0.00637787, 0.01224579,\n",
              "        0.01150447, 0.00301776])}"
            ]
          },
          "metadata": {
            "tags": []
          },
          "execution_count": 33
        }
      ]
    },
    {
      "cell_type": "code",
      "metadata": {
        "id": "8CUCtzXoPzJN",
        "colab": {
          "base_uri": "https://localhost:8080/",
          "height": 296
        },
        "outputId": "0375430a-b79c-4c0c-c2ae-5360cc799207"
      },
      "source": [
        "#Feature importance using Permutation Feature importance\n",
        "perm_importance = permutation_importance(classifier, X_test, y_test)\n",
        "sorted_idx = perm_importance.importances_mean.argsort()\n",
        "plt.barh(dataset.columns[0:7][sorted_idx], perm_importance.importances_mean[sorted_idx])\n",
        "plt.xlabel(\"Random Forest permutation importance\")"
      ],
      "execution_count": 34,
      "outputs": [
        {
          "output_type": "execute_result",
          "data": {
            "text/plain": [
              "Text(0.5, 0, 'Random Forest permutation importance')"
            ]
          },
          "metadata": {
            "tags": []
          },
          "execution_count": 34
        },
        {
          "output_type": "display_data",
          "data": {
            "image/png": "[encoded data removed]",
            "text/plain": [
              "<Figure size 432x288 with 1 Axes>"
            ]
          },
          "metadata": {
            "tags": [],
            "needs_background": "light"
          }
        }
      ]
    },
    {
      "cell_type": "code",
      "metadata": {
        "colab": {
          "base_uri": "https://localhost:8080/",
          "height": 296
        },
        "id": "CnA5jRSTNisH",
        "outputId": "36ce6f63-fd3c-4269-a5da-41d27f364258"
      },
      "source": [
        "perm_importance = permutation_importance(classifier, X_test, y_test)\n",
        "sorted_idx = perm_importance.importances_mean.argsort()\n",
        "plt.barh(dataset.columns[0:7][sorted_idx], perm_importance.importances_mean[sorted_idx])\n",
        "plt.xlabel(\"Random Forest permutation importance\")"
      ],
      "execution_count": 35,
      "outputs": [
        {
          "output_type": "execute_result",
          "data": {
            "text/plain": [
              "Text(0.5, 0, 'Random Forest permutation importance')"
            ]
          },
          "metadata": {
            "tags": []
          },
          "execution_count": 35
        },
        {
          "output_type": "display_data",
          "data": {
            "image/png": "[encoded data removed]",
            "text/plain": [
              "<Figure size 432x288 with 1 Axes>"
            ]
          },
          "metadata": {
            "tags": [],
            "needs_background": "light"
          }
        }
      ]
    },
    {
      "cell_type": "code",
      "metadata": {
        "id": "qFvroI98WKJP"
      },
      "source": [
        "#Feature importance using SHAP values from SHAP library\n",
        "explainer = shap.TreeExplainer(classifier)\n",
        "shap_values = explainer.shap_values(X_test)"
      ],
      "execution_count": 40,
      "outputs": []
    },
    {
      "cell_type": "code",
      "metadata": {
        "colab": {
          "base_uri": "https://localhost:8080/",
          "height": 299
        },
        "id": "ioV2530KXiHI",
        "outputId": "76703d13-5b9e-466a-9478-f5efcdb377df"
      },
      "source": [
        "shap.summary_plot(shap_values, X_test, plot_type=\"bar\")"
      ],
      "execution_count": 38,
      "outputs": [
        {
          "output_type": "display_data",
          "data": {
            "image/png": "[encoded data removed]",
            "text/plain": [
              "<Figure size 576x309.6 with 1 Axes>"
            ]
          },
          "metadata": {
            "tags": [],
            "needs_background": "light"
          }
        }
      ]
    },
    {
      "cell_type": "code",
      "metadata": {
        "colab": {
          "base_uri": "https://localhost:8080/",
          "height": 299
        },
        "id": "DHhOs0pwX62A",
        "outputId": "2d42e413-e4d3-4939-a40e-ed981cf414e1"
      },
      "source": [
        "Class = [\"Very High\", \"High\", \"Medium\", \"Low\"]\n",
        "Class2 = [\"Low\", \"High\", \"Medium\", \"Very High\"]\n",
        "shap.summary_plot(shap_values, X_test, feature_names= dataset.columns,\n",
        "                  class_names = classifier.classes_)\n"
      ],
      "execution_count": 39,
      "outputs": [
        {
          "output_type": "display_data",
          "data": {
            "image/png": "[encoded data removed]",
            "text/plain": [
              "<Figure size 576x309.6 with 1 Axes>"
            ]
          },
          "metadata": {
            "tags": [],
            "needs_background": "light"
          }
        }
      ]
    }
  ]
}