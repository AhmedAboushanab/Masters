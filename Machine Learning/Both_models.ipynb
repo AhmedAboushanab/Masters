{
  "nbformat": 4,
  "nbformat_minor": 0,
  "metadata": {
    "colab": {
      "name": "Both models.ipynb",
      "provenance": [],
      "collapsed_sections": [],
      "toc_visible": true,
      "machine_shape": "hm"
    },
    "kernelspec": {
      "name": "python3",
      "display_name": "Python 3"
    }
  },
  "cells": [
    {
      "cell_type": "markdown",
      "metadata": {
        "id": "0MRC0e0KhQ0S"
      },
      "source": [
        "# Random Forest Classification"
      ]
    },
    {
      "cell_type": "markdown",
      "metadata": {
        "id": "LWd1UlMnhT2s"
      },
      "source": [
        "## Importing the libraries"
      ]
    },
    {
      "cell_type": "code",
      "metadata": {
        "id": "YvGPUQaHhXfL"
      },
      "source": [
        "import numpy as np\n",
        "import matplotlib.pyplot as plt\n",
        "import pandas as pd\n",
        "from sklearn.metrics import auc\n",
        "from sklearn.metrics import plot_roc_curve\n",
        "from sklearn.linear_model import LogisticRegression\n",
        "from sklearn.ensemble import RandomForestClassifier\n",
        "from sklearn import model_selection"
      ],
      "execution_count": null,
      "outputs": []
    },
    {
      "cell_type": "markdown",
      "metadata": {
        "id": "K1VMqkGvhc3-"
      },
      "source": [
        "## Importing the dataset"
      ]
    },
    {
      "cell_type": "code",
      "metadata": {
        "id": "M52QDmyzhh9s"
      },
      "source": [
        "dataset = pd.read_csv('Total_L2 - Copy.csv')\n",
        "X = dataset.iloc[:, :-1].values\n",
        "y = dataset.iloc[:, -1].values"
      ],
      "execution_count": null,
      "outputs": []
    },
    {
      "cell_type": "markdown",
      "metadata": {
        "id": "YvxIPVyMhmKp"
      },
      "source": [
        "## Splitting the dataset into the Training set and Test set"
      ]
    },
    {
      "cell_type": "code",
      "metadata": {
        "id": "AVzJWAXIhxoC"
      },
      "source": [
        "from sklearn.model_selection import train_test_split\n",
        "X_train, X_test, y_train, y_test = train_test_split(X, y, test_size = 0.25, random_state = 0)"
      ],
      "execution_count": null,
      "outputs": []
    },
    {
      "cell_type": "code",
      "metadata": {
        "id": "P3nS3-6r1i2B",
        "colab": {
          "base_uri": "https://localhost:8080/"
        },
        "outputId": "b55f222c-ba18-4fb6-95a4-01c8a93a2209"
      },
      "source": [
        "print(X_train)"
      ],
      "execution_count": null,
      "outputs": [
        {
          "output_type": "stream",
          "text": [
            "[[4.968159e+01 1.389630e+00 4.636807e+01 ... 0.000000e+00 2.537860e+00\n",
            "  0.000000e+00]\n",
            " [5.190220e+00 1.154100e-01 9.439760e+01 ... 5.940000e-03 2.880800e-01\n",
            "  0.000000e+00]\n",
            " [8.836778e+01 2.495390e+00 2.214200e-01 ... 5.415220e+00 2.661740e+00\n",
            "  8.346700e-01]\n",
            " ...\n",
            " [7.341292e+01 2.988200e+00 1.234310e+00 ... 2.173424e+01 2.942600e-01\n",
            "  3.126100e-01]\n",
            " [3.580850e+00 9.356000e-02 9.486467e+01 ... 0.000000e+00 1.460920e+00\n",
            "  0.000000e+00]\n",
            " [4.064321e+01 5.103200e-01 5.602504e+01 ... 6.316500e-01 5.214200e-01\n",
            "  1.668350e+00]]\n"
          ],
          "name": "stdout"
        }
      ]
    },
    {
      "cell_type": "code",
      "metadata": {
        "id": "8dpDLojm1mVG",
        "colab": {
          "base_uri": "https://localhost:8080/"
        },
        "outputId": "8d7f1353-72b3-4e8d-f108-c2c58eb06141"
      },
      "source": [
        "print(y_train)"
      ],
      "execution_count": null,
      "outputs": [
        {
          "output_type": "stream",
          "text": [
            "['Medium' 'Medium' 'Very High' ... 'Medium' 'Medium' 'Medium']\n"
          ],
          "name": "stdout"
        }
      ]
    },
    {
      "cell_type": "code",
      "metadata": {
        "id": "qbb7i0DH1qui",
        "colab": {
          "base_uri": "https://localhost:8080/"
        },
        "outputId": "14fdda86-44dd-439e-bb13-507499cab1dd"
      },
      "source": [
        "print(X_test)"
      ],
      "execution_count": null,
      "outputs": [
        {
          "output_type": "stream",
          "text": [
            "[[15.15582  4.38981 36.01287 ... 25.32844  1.51148 17.57746]\n",
            " [51.18203  3.17307 43.38348 ...  0.       2.23112  0.     ]\n",
            " [ 4.0134   0.91351 72.55525 ...  0.      22.51784  0.     ]\n",
            " ...\n",
            " [39.56976  0.10323 55.31244 ...  0.       4.85675  0.15517]\n",
            " [20.31384 14.04039 62.58748 ...  0.       2.63847  0.14708]\n",
            " [73.94178 19.58152  6.33746 ...  0.       0.13923  0.     ]]\n"
          ],
          "name": "stdout"
        }
      ]
    },
    {
      "cell_type": "code",
      "metadata": {
        "id": "kj1hnFAR1s5w",
        "colab": {
          "base_uri": "https://localhost:8080/"
        },
        "outputId": "61944ecb-2c4a-4853-d6a9-3c1a80d9ae35"
      },
      "source": [
        "print(y_test)"
      ],
      "execution_count": null,
      "outputs": [
        {
          "output_type": "stream",
          "text": [
            "['Low' 'Medium' 'Medium' 'Medium' 'Low' 'Medium' 'Low' 'Medium' 'Medium'\n",
            " 'Low' 'Very High' 'Medium' 'Low' 'Medium' 'Medium' 'Very High'\n",
            " 'Very High' 'High' 'Medium' 'Low' 'Very High' 'Medium' 'Medium'\n",
            " 'Very High' 'Medium' 'Medium' 'Very High' 'High' 'Very High' 'Medium'\n",
            " 'Medium' 'Medium' 'Low' 'Medium' 'Medium' 'Very High' 'Medium' 'Medium'\n",
            " 'Medium' 'Very High' 'Medium' 'Medium' 'Very High' 'Very High'\n",
            " 'Very High' 'Very High' 'Medium' 'High' 'High' 'Medium' 'Very High'\n",
            " 'Very High' 'Medium' 'Low' 'Very High' 'Medium' 'Medium' 'Medium'\n",
            " 'Medium' 'Medium' 'Medium' 'Very High' 'Medium' 'Very High' 'Medium'\n",
            " 'Very High' 'Very High' 'Medium' 'High' 'Medium' 'Very High' 'Medium'\n",
            " 'Medium' 'Medium' 'Very High' 'Medium' 'Very High' 'Medium' 'Medium'\n",
            " 'Medium' 'High' 'Very High' 'Medium' 'High' 'Very High' 'Medium'\n",
            " 'Very High' 'Very High' 'Medium' 'Very High' 'Medium' 'Medium'\n",
            " 'Very High' 'Medium' 'Very High' 'Very High' 'Medium' 'Very High'\n",
            " 'Very High' 'Medium' 'Medium' 'Medium' 'Very High' 'Medium' 'Low'\n",
            " 'Medium' 'Medium' 'Very High' 'Medium' 'Low' 'Medium' 'Very High' 'Low'\n",
            " 'Very High' 'Very High' 'High' 'Very High' 'Very High' 'Medium'\n",
            " 'Very High' 'Very High' 'Very High' 'Very High' 'Medium' 'Medium' 'High'\n",
            " 'Medium' 'Very High' 'Very High' 'Medium' 'Medium' 'Medium' 'Medium'\n",
            " 'Medium' 'Medium' 'Very High' 'Medium' 'Very High' 'Very High' 'Medium'\n",
            " 'High' 'Very High' 'Very High' 'Medium' 'Medium' 'Medium' 'Very High'\n",
            " 'High' 'Very High' 'Very High' 'Medium' 'Medium' 'Very High' 'Medium'\n",
            " 'Medium' 'High' 'Very High' 'Medium' 'Medium' 'Low' 'Medium' 'Medium'\n",
            " 'Medium' 'Medium' 'Very High' 'Medium' 'Medium' 'Low' 'Medium' 'High'\n",
            " 'Very High' 'Very High' 'Medium' 'Very High' 'Medium' 'High' 'Medium'\n",
            " 'Very High' 'Very High' 'Very High' 'High' 'Very High' 'Medium' 'Medium'\n",
            " 'Very High' 'Very High' 'High' 'Medium' 'Very High' 'Very High' 'Medium'\n",
            " 'Medium' 'Medium' 'Very High' 'Medium' 'Medium' 'Medium' 'Very High'\n",
            " 'Medium' 'High' 'Very High' 'Medium' 'Medium' 'Medium' 'Low' 'Very High'\n",
            " 'Medium' 'Medium' 'Very High' 'Medium' 'Medium' 'Very High' 'Medium'\n",
            " 'Medium' 'Medium' 'Very High' 'Medium' 'Very High' 'Medium' 'Medium'\n",
            " 'Medium' 'Very High' 'Medium' 'Very High' 'Medium' 'Medium' 'Medium'\n",
            " 'Very High' 'Medium' 'Very High' 'Low' 'Very High' 'Very High' 'High'\n",
            " 'Medium' 'Medium' 'Medium' 'Medium' 'Medium' 'Medium' 'Medium' 'Low'\n",
            " 'Medium' 'Medium' 'Medium' 'Medium' 'Medium' 'Medium' 'Very High' 'Low'\n",
            " 'Low' 'Medium' 'Medium' 'Medium' 'Medium' 'Medium' 'Medium' 'Medium'\n",
            " 'Very High' 'Medium' 'Medium' 'Medium' 'Very High' 'Very High' 'Low'\n",
            " 'Low' 'Medium' 'Very High' 'Medium' 'Medium' 'Very High' 'Very High'\n",
            " 'Very High' 'Medium' 'Medium' 'Medium' 'Low' 'Very High' 'Very High'\n",
            " 'Medium' 'Medium' 'Low' 'Medium' 'Medium' 'Very High' 'Medium'\n",
            " 'Very High' 'Low' 'Very High' 'Medium' 'Very High' 'Medium' 'Very High'\n",
            " 'Medium' 'Very High' 'Medium' 'Medium' 'Low' 'Medium' 'Medium'\n",
            " 'Very High' 'Medium' 'Very High' 'Medium' 'Medium' 'Very High' 'Low'\n",
            " 'Medium' 'Very High' 'Medium' 'Medium' 'Medium' 'Very High' 'Very High'\n",
            " 'Very High' 'Low' 'Medium' 'High' 'Medium' 'Medium' 'Medium' 'Low'\n",
            " 'Medium' 'Medium' 'Medium' 'Medium' 'Medium' 'Very High' 'Medium'\n",
            " 'Medium' 'Very High' 'Very High' 'Low' 'Medium' 'High' 'Very High'\n",
            " 'Medium' 'Medium' 'Medium' 'Low' 'Medium' 'Very High' 'Very High'\n",
            " 'Very High' 'Low' 'Medium' 'Medium' 'Medium' 'Very High' 'Low' 'Medium'\n",
            " 'Medium' 'Medium' 'High' 'Medium' 'Medium' 'Medium' 'Low' 'Medium'\n",
            " 'Very High' 'Medium' 'High' 'Very High']\n"
          ],
          "name": "stdout"
        }
      ]
    },
    {
      "cell_type": "markdown",
      "metadata": {
        "id": "v3eJ5sAoYkPM"
      },
      "source": [
        "**Feature Scaling**"
      ]
    },
    {
      "cell_type": "code",
      "metadata": {
        "id": "GASG8Z2MYlq_"
      },
      "source": [
        "from sklearn.preprocessing import StandardScaler\n",
        "sc = StandardScaler()\n",
        "X_train = sc.fit_transform(X_train)\n",
        "X_test = sc.transform(X_test)"
      ],
      "execution_count": null,
      "outputs": []
    },
    {
      "cell_type": "code",
      "metadata": {
        "colab": {
          "base_uri": "https://localhost:8080/"
        },
        "id": "9YdmpwYWYpA4",
        "outputId": "810590f6-8c42-4d89-c052-38104b442dca"
      },
      "source": [
        "print(X_train)"
      ],
      "execution_count": null,
      "outputs": [
        {
          "output_type": "stream",
          "text": [
            "[[ 0.03612935 -0.65313988  0.43442999 ... -0.31927077 -0.15971233\n",
            "  -0.0999257 ]\n",
            " [-1.94090878 -0.76164141  2.25609058 ... -0.3179135  -0.37906638\n",
            "  -0.0999257 ]\n",
            " [ 1.75520594 -0.55898295 -1.31581686 ...  0.91808431 -0.14763401\n",
            "   0.08631638]\n",
            " ...\n",
            " [ 1.09066519 -0.51701952 -1.27740004 ...  4.64691198 -0.37846383\n",
            "  -0.03017222]\n",
            " [-2.01242345 -0.76350196  2.27380558 ... -0.31927077 -0.26471422\n",
            "  -0.0999257 ]\n",
            " [-0.36550408 -0.7280143   0.80069886 ... -0.17494139 -0.35631568\n",
            "   0.27233755]]\n"
          ],
          "name": "stdout"
        }
      ]
    },
    {
      "cell_type": "code",
      "metadata": {
        "colab": {
          "base_uri": "https://localhost:8080/"
        },
        "id": "BfMAEXcqYr27",
        "outputId": "40ee652a-6cca-49d5-83e2-656098daa61e"
      },
      "source": [
        "print(X_test)"
      ],
      "execution_count": null,
      "outputs": [
        {
          "output_type": "stream",
          "text": [
            "[[-1.49807298 -0.39767057  0.0416787  ...  5.46817162 -0.25978461\n",
            "   3.82217838]\n",
            " [ 0.10280357 -0.5012776   0.32123068 ... -0.31927077 -0.18961955\n",
            "  -0.0999257 ]\n",
            " [-1.99320247 -0.69368213  1.42765549 ... -0.31927077  1.78834015\n",
            "  -0.0999257 ]\n",
            " ...\n",
            " [-0.41320438 -0.76267855  0.77367142 ... -0.31927077  0.06637996\n",
            "  -0.06530222]\n",
            " [-1.26886893  0.42408913  1.04959862 ... -0.31927077 -0.14990284\n",
            "  -0.06710736]\n",
            " [ 1.11416585  0.89592371 -1.08384813 ... -0.31927077 -0.39357929\n",
            "  -0.0999257 ]]\n"
          ],
          "name": "stdout"
        }
      ]
    },
    {
      "cell_type": "markdown",
      "metadata": {
        "id": "XYrBIN5sVmgQ"
      },
      "source": [
        "**For loop for both Models**"
      ]
    },
    {
      "cell_type": "code",
      "metadata": {
        "colab": {
          "base_uri": "https://localhost:8080/"
        },
        "id": "iLwvsRoEVqQM",
        "outputId": "e74b1e73-e959-4be0-845d-f115eabb56dc"
      },
      "source": [
        "# prepare models\n",
        "models = []\n",
        "models.append(('LR', LogisticRegression(random_state = 0, max_iter=1000)))\n",
        "models.append(('RF', RandomForestClassifier(n_estimators = 100, criterion = 'entropy', random_state = 0)))\n",
        "\n",
        "# evaluate each model in turn\n",
        "results = []\n",
        "names = []\n",
        "scoring = 'accuracy'\n",
        "for name, model in models:\n",
        "\tkfold = model_selection.KFold(n_splits=10)\n",
        "\tcv_results = model_selection.cross_val_score(estimator = model, X = X_train, y = y_train, cv = 10)\n",
        "\tresults.append(cv_results)\n",
        "\tnames.append(name)\n",
        "\tmsg = \"%s: %f %% (%f %%)\" % (name, cv_results.mean()*100, cv_results.std()*100)\n",
        "\tprint(msg)"
      ],
      "execution_count": null,
      "outputs": [
        {
          "output_type": "stream",
          "text": [
            "LR: 72.728508 % (3.060414 %)\n",
            "RF: 76.587666 % (2.440850 %)\n"
          ],
          "name": "stdout"
        }
      ]
    },
    {
      "cell_type": "markdown",
      "metadata": {
        "id": "ZWR-z9TjWwLl"
      },
      "source": [
        "**boxplot algorithm comparison**"
      ]
    },
    {
      "cell_type": "code",
      "metadata": {
        "colab": {
          "base_uri": "https://localhost:8080/",
          "height": 294
        },
        "id": "h84z3opbW1-F",
        "outputId": "c9ecdb70-5e1e-4510-c31d-6bc5e03b1a37"
      },
      "source": [
        "fig = plt.figure()\n",
        "fig.suptitle('Model Comparison')\n",
        "ax = fig.add_subplot(111)\n",
        "plt.boxplot(results)\n",
        "ax.set_xticklabels(names)\n",
        "plt.show()"
      ],
      "execution_count": null,
      "outputs": [
        {
          "output_type": "display_data",
          "data": {
            "image/png": "[encoded data removed]",
            "text/plain": [
              "<Figure size 432x288 with 1 Axes>"
            ]
          },
          "metadata": {
            "tags": [],
            "needs_background": "light"
          }
        }
      ]
    }
  ]
}